{
  "nbformat": 4,
  "nbformat_minor": 0,
  "metadata": {
    "colab": {
      "provenance": [],
      "include_colab_link": true
    },
    "kernelspec": {
      "name": "ir",
      "display_name": "R"
    },
    "language_info": {
      "name": "R"
    }
  },
  "cells": [
    {
      "cell_type": "markdown",
      "metadata": {
        "id": "view-in-github",
        "colab_type": "text"
      },
      "source": [
        "<a href=\"https://colab.research.google.com/github/vshlemon/colabs/blob/main/notebooks/time-series-forecasting/introductory.ipynb\" target=\"_parent\"><img src=\"https://colab.research.google.com/assets/colab-badge.svg\" alt=\"Open In Colab\"/></a>"
      ]
    },
    {
      "cell_type": "markdown",
      "source": [
        "# Setup"
      ],
      "metadata": {
        "id": "hIVVtYd-lt9V"
      }
    },
    {
      "cell_type": "code",
      "source": [
        "install.packages(\"fpp3\")"
      ],
      "metadata": {
        "id": "vSroCKUnjRV1"
      },
      "execution_count": null,
      "outputs": []
    },
    {
      "cell_type": "code",
      "source": [
        "library(fpp3)"
      ],
      "metadata": {
        "id": "ymlKFtJXikAR"
      },
      "execution_count": null,
      "outputs": []
    },
    {
      "cell_type": "markdown",
      "source": [
        "# Intro\n",
        "- https://otexts.com/fpp3/graphics.html"
      ],
      "metadata": {
        "id": "87SazueQl1RM"
      }
    },
    {
      "cell_type": "markdown",
      "source": [
        "## Basics & R"
      ],
      "metadata": {
        "id": "77XEKdxiucrI"
      }
    },
    {
      "cell_type": "code",
      "source": [
        "# how to create a tsibble object\n",
        "y <- tsibble(\n",
        "  Year = 2015:2019,\n",
        "  Observation = c(123, 39, 78, 52, 110),\n",
        "  index = Year\n",
        ")"
      ],
      "metadata": {
        "id": "18NLTitS-vmG"
      },
      "execution_count": null,
      "outputs": []
    },
    {
      "cell_type": "code",
      "source": [
        "# Here we manipulate the data using some functions made available from the `dplyr` package\n",
        "# Some datasets, such as PBS, are readily available as vars via. the fpp3 library\n",
        "\n",
        "# We can refer to column names directly when working with a dataset object\n",
        "# We can pipe output from one operation to another using `|>`\n",
        "# We can save to a new variable using `->` (typically `<-` will be used for setting variables)\n",
        "\n",
        "PBS |>\n",
        "  filter(ATC2 == \"A10\") |>\n",
        "  select(Month, Concession, Type, Cost) |>\n",
        "  summarise(TotalC = sum(Cost)) |>\n",
        "  mutate(Cost = TotalC/1e6) ->\n",
        "  a10 # output variable name\n",
        "\n",
        "# a10 # uncomment to view"
      ],
      "metadata": {
        "id": "ctECCd__iXEa"
      },
      "execution_count": null,
      "outputs": []
    },
    {
      "cell_type": "code",
      "source": [
        "# Reading to a dataset (tsibble) object from csv\n",
        "\n",
        "prison <- readr::read_csv(\"https://OTexts.com/fpp3/extrafiles/prison_population.csv\")\n",
        "\n",
        "\n",
        "# We can use `<-` to store to a variable though it is not the cleanest for long chained operations\n",
        "# You can use `-` next to a column name to exclude it from the selection\n",
        "\n",
        "# Use `as_tsibble` to convert to a tsibble object, `key` is the granularity for grouping of the data,\n",
        "# `index` is the unique identifier within a grouping to organise by\n",
        "\n",
        "prison <- prison |>\n",
        "          mutate(Quarter = yearquarter(Date)) |>\n",
        "          select(-Date) |>\n",
        "          as_tsibble(\n",
        "            key = c(State, Gender, Legal, Indigenous),\n",
        "            index = Quarter\n",
        "          )\n",
        "# prison"
      ],
      "metadata": {
        "id": "OspSzUM-mSVk"
      },
      "execution_count": null,
      "outputs": []
    },
    {
      "cell_type": "markdown",
      "source": [
        "## Time Series Intro"
      ],
      "metadata": {
        "id": "6rRJGHbKuiW9"
      }
    },
    {
      "cell_type": "markdown",
      "source": [
        "**Trend**: is when there is a continual pattern in the data over a period of time - usually a consistent linear increase or decrease for example\n",
        "\n",
        "**Seasonality**: is when there is a repeating pattern in the data at regular frequencies related to the human calendar - eg. a pattern repeats hourly, yearly or so on\n",
        "\n",
        "**Cyclic**: seems to be more like an overarching pattern of re-occuring cycles of behaviour over larger periods, encompassing many sub-patterns of seasonality within it. And with frequency that is not fixed or regular i.e. the repetition could happen over expanding windows (e.g. originally repeats after a year for 2 years, then for 4 etc.) or in other ways"
      ],
      "metadata": {
        "id": "Xw-hHgSXuo3E"
      }
    },
    {
      "cell_type": "code",
      "source": [
        "options(repr.plot.width=15, repr.plot.height=8)"
      ],
      "metadata": {
        "id": "uRYWvMv70Hvc"
      },
      "execution_count": null,
      "outputs": []
    },
    {
      "cell_type": "code",
      "source": [
        "# We can make plots that segregate data by their seasonality of different granularities, the dataset contains\n",
        "# half-hourly records of energy demand, the `gg_season` function is provided by the `fpp3` library & can infer\n",
        "# what your date field is to organise periodicity by, it then can present the graph as grouped by the grain\n",
        "# eg. by year, by year+month etc. needed to visualise the periods within (quarters, weeks etc.)\n",
        "\n",
        "vic_elec |>\n",
        "  gg_season(\n",
        "    y=Demand,\n",
        "    period='day',\n",
        "    labels='right'\n",
        "  ) +\n",
        "  theme(legend.position=\"none\", aspect.ratio=0.5) +\n",
        "  labs(y=\"MWh\", title=\"Electricity demand: Victoria (Daily Patterns)\")\n",
        "\n",
        "vic_elec |>\n",
        "  gg_season(\n",
        "    y=Demand,\n",
        "    period='week',\n",
        "    labels='right'\n",
        "  ) +\n",
        "  theme(legend.position=\"none\", aspect.ratio=0.5) +\n",
        "  labs(y=\"MWh\", title=\"Electricity demand: Victoria (Weekly Patterns)\")\n",
        "\n",
        "vic_elec |>\n",
        "  gg_season(\n",
        "    y=Demand,\n",
        "    period='month',\n",
        "    labels='right'\n",
        "  ) +\n",
        "  theme(legend.position=\"none\", aspect.ratio=0.5) +\n",
        "  labs(y=\"MWh\", title=\"Electricity demand: Victoria (Monthly Patterns)\")\n",
        "\n",
        "vic_elec |>\n",
        "  gg_season(\n",
        "    y=Demand,\n",
        "    period='year',\n",
        "    labels='right'\n",
        "  ) +\n",
        "  theme(legend.position=\"none\", aspect.ratio=0.5) +\n",
        "  labs(y=\"MWh\", title=\"Electricity demand: Victoria (Yearly Patterns)\")"
      ],
      "metadata": {
        "id": "oT5I9lAIumcB"
      },
      "execution_count": null,
      "outputs": []
    },
    {
      "cell_type": "markdown",
      "source": [
        "You can see that there are strong seasonality patterns especially at the daily granularity (got by setting period to consider as a week or as a month - you can see the repeating pattern of a days' activity in each)\n",
        "\n",
        "There is a general rise and fall across the duration of a day but it is made more obvious when zoomed out and not viewing with a day's period. The yearly period graph appears random but is fairly consistent with the daily seasonality, and is just noisy in appearance due to how compact it is.\n",
        "\n",
        "So it seems the seasonality is at the daily granularity alone, or at least most strongly, and this is probably because people consume electricity at similar hours of the day every day & repeat this behaviour on and on unaffected by other grains of the calendar i.e. consumption is unlikely to go up on a tuesday compared to wednesday, or a january compared to june, for the most part consumption depends on the hour of the day."
      ],
      "metadata": {
        "id": "pyIrcja_2Vq_"
      }
    },
    {
      "cell_type": "code",
      "source": [],
      "metadata": {
        "id": "0sSEQDeXxdsh"
      },
      "execution_count": null,
      "outputs": []
    }
  ]
}