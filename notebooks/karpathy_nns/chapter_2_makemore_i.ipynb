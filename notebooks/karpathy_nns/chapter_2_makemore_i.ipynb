{
  "nbformat": 4,
  "nbformat_minor": 0,
  "metadata": {
    "colab": {
      "provenance": [],
      "include_colab_link": true
    },
    "kernelspec": {
      "name": "python3",
      "display_name": "Python 3"
    },
    "language_info": {
      "name": "python"
    }
  },
  "cells": [
    {
      "cell_type": "markdown",
      "metadata": {
        "id": "view-in-github",
        "colab_type": "text"
      },
      "source": [
        "<a href=\"https://colab.research.google.com/github/vshlemon/colabs/blob/main/notebooks/karpathy_nns/chapter_2_makemore_i.ipynb\" target=\"_parent\"><img src=\"https://colab.research.google.com/assets/colab-badge.svg\" alt=\"Open In Colab\"/></a>"
      ]
    },
    {
      "cell_type": "code",
      "execution_count": null,
      "metadata": {
        "id": "zdRQp-jvxDxW"
      },
      "outputs": [],
      "source": [
        "!git clone https://github.com/vshlemon/colabs.git"
      ]
    },
    {
      "cell_type": "markdown",
      "source": [
        "# Data exploration"
      ],
      "metadata": {
        "id": "fRhP_Foqz6YK"
      }
    },
    {
      "cell_type": "code",
      "source": [
        "data_dir = '/content/colabs/notebooks/karpathy_nns/data'\n",
        "words = open(f'{data_dir}/names.txt', 'r').read().splitlines()"
      ],
      "metadata": {
        "id": "CO9VDMGCy53N"
      },
      "execution_count": null,
      "outputs": []
    },
    {
      "cell_type": "code",
      "source": [
        "words[:5]"
      ],
      "metadata": {
        "id": "N2nE6d-1zBPG"
      },
      "execution_count": null,
      "outputs": []
    },
    {
      "cell_type": "markdown",
      "source": [
        "**Statistical information in words**\n",
        "\n",
        "Karpathy mentions there is already a lot of statistical data to learn from in a word. For example in `isabella` we can look at which letter follows the preceding context and use that as data to train a model to learn statistical associations between:\n",
        "  - i -> s\n",
        "  - is -> a\n",
        "  - isa -> b\n",
        "  - ...\n",
        "  - isabella -> [end]\n",
        "\n",
        "So even just one name has a lot of training data."
      ],
      "metadata": {
        "id": "TyzhGq2Y5BT6"
      }
    },
    {
      "cell_type": "code",
      "source": [
        "print(f\"\"\"\n",
        "  Number of names: {len(words)},\n",
        "  Smallest name size: {min([len(w) for w in words])} characters long,\n",
        "  Largest name size: {max([len(w) for w in words])} characters long\n",
        "\"\"\")"
      ],
      "metadata": {
        "id": "4eVpTvnk4_ZO"
      },
      "execution_count": null,
      "outputs": []
    },
    {
      "cell_type": "markdown",
      "source": [
        "# Bigram Models"
      ],
      "metadata": {
        "id": "37Wty-br7FWx"
      }
    },
    {
      "cell_type": "code",
      "source": [
        "# printing the word and its succeeding word (by using the words original characters aligned\n",
        "# with its characters offset by 1 - when the zip items are no longer aligned i.e. there is\n",
        "# nothing in one of them, then the loop halts, that is why the last character has no follow\n",
        "# up since there is nothing in the offset list to match with it)\n",
        "\n",
        "print(\"Current character -> Succeeding character\\n\")\n",
        "for w in words[:5]:\n",
        "  print(f\"Name: {w}\")\n",
        "  for ch_curr, ch_next in zip(w, w[1:]):\n",
        "    print(f\"\"\"{ch_curr} -> {ch_next}\"\"\")\n",
        "  print()"
      ],
      "metadata": {
        "id": "00T10Ntw7C12",
        "outputId": "f720ea93-54c8-4bce-d085-a13908505f2f",
        "colab": {
          "base_uri": "https://localhost:8080/"
        }
      },
      "execution_count": 15,
      "outputs": [
        {
          "output_type": "stream",
          "name": "stdout",
          "text": [
            "Current character -> Succeeding character\n",
            "\n",
            "Name: emma\n",
            "e -> m\n",
            "m -> m\n",
            "m -> a\n",
            "\n",
            "Name: olivia\n",
            "o -> l\n",
            "l -> i\n",
            "i -> v\n",
            "v -> i\n",
            "i -> a\n",
            "\n",
            "Name: ava\n",
            "a -> v\n",
            "v -> a\n",
            "\n",
            "Name: isabella\n",
            "i -> s\n",
            "s -> a\n",
            "a -> b\n",
            "b -> e\n",
            "e -> l\n",
            "l -> l\n",
            "l -> a\n",
            "\n",
            "Name: sophia\n",
            "s -> o\n",
            "o -> p\n",
            "p -> h\n",
            "h -> i\n",
            "i -> a\n",
            "\n"
          ]
        }
      ]
    },
    {
      "cell_type": "markdown",
      "source": [
        "**Start and End Tokens**\n",
        "\n",
        "Since we also want to learn patterns of the start of words so that when we have a blank space we have a statistical association of what might follow it to start a new word (and this also extends to learning associations for blank spaces preceded by characters eg. `hello _`), we add a start token `<S>`.\n",
        "\n",
        "And to learn patterns for when to end words we add an end token `<E>` so we develop some statistical associations of which preceding sequence of characters might result in the termination of the word."
      ],
      "metadata": {
        "id": "jVc6b_-_9eC6"
      }
    },
    {
      "cell_type": "code",
      "source": [
        "print(\"Current character -> Succeeding character (inc. `<S>` & `<E>` tokens) \\n\")\n",
        "for w in words[:5]:\n",
        "  print(f\"Name: {w}\")\n",
        "  chs = ['<S>'] + list(w) + ['<E>']\n",
        "  for ch_curr, ch_next in zip(chs, chs[1:]):\n",
        "    print(f\"\"\"{ch_curr} -> {ch_next}\"\"\")\n",
        "  print()"
      ],
      "metadata": {
        "id": "CsNgYkbj6RLb",
        "outputId": "4c17f269-07eb-4f41-9050-188ace8b58f3",
        "colab": {
          "base_uri": "https://localhost:8080/"
        }
      },
      "execution_count": 19,
      "outputs": [
        {
          "output_type": "stream",
          "name": "stdout",
          "text": [
            "Current character -> Succeeding character (inc. `<S>` & `<E>` tokens) \n",
            "\n",
            "Name: emma\n",
            "<S> -> e\n",
            "e -> m\n",
            "m -> m\n",
            "m -> a\n",
            "a -> <E>\n",
            "\n",
            "Name: olivia\n",
            "<S> -> o\n",
            "o -> l\n",
            "l -> i\n",
            "i -> v\n",
            "v -> i\n",
            "i -> a\n",
            "a -> <E>\n",
            "\n",
            "Name: ava\n",
            "<S> -> a\n",
            "a -> v\n",
            "v -> a\n",
            "a -> <E>\n",
            "\n",
            "Name: isabella\n",
            "<S> -> i\n",
            "i -> s\n",
            "s -> a\n",
            "a -> b\n",
            "b -> e\n",
            "e -> l\n",
            "l -> l\n",
            "l -> a\n",
            "a -> <E>\n",
            "\n",
            "Name: sophia\n",
            "<S> -> s\n",
            "s -> o\n",
            "o -> p\n",
            "p -> h\n",
            "h -> i\n",
            "i -> a\n",
            "a -> <E>\n",
            "\n"
          ]
        }
      ]
    },
    {
      "cell_type": "code",
      "source": [],
      "metadata": {
        "id": "cTNoTmed-f1c"
      },
      "execution_count": null,
      "outputs": []
    }
  ]
}